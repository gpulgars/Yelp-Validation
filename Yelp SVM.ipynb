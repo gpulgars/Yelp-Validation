{
 "cells": [
  {
   "cell_type": "markdown",
   "metadata": {},
   "source": [
    "# Support Vector Machine (SVM) para Análisis de Sentimientos\n",
    "En el jupyter notebook se puede ver la construcción de un modelo SVM que predice el sentimiento de un comentario de redes sociales para dos productos ecuatorianos. Incluye la limpieza de datos, su preprocesamiento, preparación, construcción del modelo y evaluación del modelo."
   ]
  },
  {
   "cell_type": "markdown",
   "metadata": {},
   "source": [
    "**Código desarrollado por: Camila Revelo, Joel Marín y Jordy Urquizo**"
   ]
  },
  {
   "cell_type": "markdown",
   "metadata": {},
   "source": [
    "### Importación de librerías para usar  \n",
    "En esta celda se importan las librerías que se utilizarán durante el proyecto. Algunas de ellas viene incluidas con Anaconda, pero otras deben ser descargadas si no se lo ha hecho. "
   ]
  },
  {
   "cell_type": "code",
   "execution_count": 2,
   "metadata": {},
   "outputs": [],
   "source": [
    "#Se importan las librerías necesarias\n",
    "from sklearn import metrics\n",
    "import numpy as np # álgebra lineal \n",
    "import pandas as pd # procesamiento de datos\n",
    "import re, string, nltk\n",
    "from nltk.tokenize import TweetTokenizer\n",
    "from sklearn.feature_extraction.text import CountVectorizer\n",
    "from bs4 import BeautifulSoup"
   ]
  },
  {
   "cell_type": "markdown",
   "metadata": {},
   "source": [
    "### Comprensión y limpieza de los datos \n",
    "En esta fase se llevó a cabo la extracción y recopilación de los comentarios de los usuarios sobre dos productos específicos. Estos comentarios se derivaron de varias publicaciones en redes sociales como Facebook e Instagram."
   ]
  },
  {
   "cell_type": "code",
   "execution_count": 3,
   "metadata": {},
   "outputs": [
    {
     "data": {
      "text/html": [
       "<div>\n",
       "<style scoped>\n",
       "    .dataframe tbody tr th:only-of-type {\n",
       "        vertical-align: middle;\n",
       "    }\n",
       "\n",
       "    .dataframe tbody tr th {\n",
       "        vertical-align: top;\n",
       "    }\n",
       "\n",
       "    .dataframe thead th {\n",
       "        text-align: right;\n",
       "    }\n",
       "</style>\n",
       "<table border=\"1\" class=\"dataframe\">\n",
       "  <thead>\n",
       "    <tr style=\"text-align: right;\">\n",
       "      <th></th>\n",
       "      <th>content</th>\n",
       "      <th>Polarity_Rating</th>\n",
       "    </tr>\n",
       "  </thead>\n",
       "  <tbody>\n",
       "    <tr>\n",
       "      <th>0</th>\n",
       "      <td>Guau ... Me encantó este lugar.</td>\n",
       "      <td>Positive</td>\n",
       "    </tr>\n",
       "    <tr>\n",
       "      <th>1</th>\n",
       "      <td>La corteza no es buena.</td>\n",
       "      <td>Negative</td>\n",
       "    </tr>\n",
       "    <tr>\n",
       "      <th>2</th>\n",
       "      <td>No es sabroso y la textura era simplemente des...</td>\n",
       "      <td>Negative</td>\n",
       "    </tr>\n",
       "    <tr>\n",
       "      <th>3</th>\n",
       "      <td>Pasé por allí durante el feriado bancario de f...</td>\n",
       "      <td>Positive</td>\n",
       "    </tr>\n",
       "    <tr>\n",
       "      <th>4</th>\n",
       "      <td>La selección del menú era excelente, al igual ...</td>\n",
       "      <td>Positive</td>\n",
       "    </tr>\n",
       "  </tbody>\n",
       "</table>\n",
       "</div>"
      ],
      "text/plain": [
       "                                             content Polarity_Rating\n",
       "0                   Guau ... Me encantó este lugar.         Positive\n",
       "1                           La corteza no es buena.         Negative\n",
       "2  No es sabroso y la textura era simplemente des...        Negative\n",
       "3  Pasé por allí durante el feriado bancario de f...        Positive\n",
       "4  La selección del menú era excelente, al igual ...        Positive"
      ]
     },
     "execution_count": 3,
     "metadata": {},
     "output_type": "execute_result"
    }
   ],
   "source": [
    "#Se importa el set de datos de entrenamiento \n",
    "data = pd.read_excel(\"Yelp.xlsx\")\n",
    "\n",
    "#print head\n",
    "data.head()"
   ]
  },
  {
   "cell_type": "code",
   "execution_count": 4,
   "metadata": {},
   "outputs": [
    {
     "name": "stderr",
     "output_type": "stream",
     "text": [
      "C:\\Users\\gpulg\\anaconda3\\lib\\site-packages\\bs4\\__init__.py:329: MarkupResemblesLocatorWarning: \"Con: servicio irregular. \" looks like a filename, not markup. You should probably open this file and pass the filehandle into Beautiful Soup.\n",
      "  warnings.warn(\n"
     ]
    },
    {
     "data": {
      "text/html": [
       "<div>\n",
       "<style scoped>\n",
       "    .dataframe tbody tr th:only-of-type {\n",
       "        vertical-align: middle;\n",
       "    }\n",
       "\n",
       "    .dataframe tbody tr th {\n",
       "        vertical-align: top;\n",
       "    }\n",
       "\n",
       "    .dataframe thead th {\n",
       "        text-align: right;\n",
       "    }\n",
       "</style>\n",
       "<table border=\"1\" class=\"dataframe\">\n",
       "  <thead>\n",
       "    <tr style=\"text-align: right;\">\n",
       "      <th></th>\n",
       "      <th>content_clean</th>\n",
       "      <th>Polarity_Rating</th>\n",
       "    </tr>\n",
       "  </thead>\n",
       "  <tbody>\n",
       "    <tr>\n",
       "      <th>0</th>\n",
       "      <td>Guau ... Me encantó este lugar.</td>\n",
       "      <td>Positive</td>\n",
       "    </tr>\n",
       "    <tr>\n",
       "      <th>1</th>\n",
       "      <td>La corteza no es buena.</td>\n",
       "      <td>Negative</td>\n",
       "    </tr>\n",
       "    <tr>\n",
       "      <th>2</th>\n",
       "      <td>No es sabroso y la textura era simplemente des...</td>\n",
       "      <td>Negative</td>\n",
       "    </tr>\n",
       "    <tr>\n",
       "      <th>3</th>\n",
       "      <td>Pasé por allí durante el feriado bancario de f...</td>\n",
       "      <td>Positive</td>\n",
       "    </tr>\n",
       "    <tr>\n",
       "      <th>4</th>\n",
       "      <td>La selección del menú era excelente, al igual ...</td>\n",
       "      <td>Positive</td>\n",
       "    </tr>\n",
       "  </tbody>\n",
       "</table>\n",
       "</div>"
      ],
      "text/plain": [
       "                                       content_clean Polarity_Rating\n",
       "0                   Guau ... Me encantó este lugar.         Positive\n",
       "1                           La corteza no es buena.         Negative\n",
       "2  No es sabroso y la textura era simplemente des...        Negative\n",
       "3  Pasé por allí durante el feriado bancario de f...        Positive\n",
       "4  La selección del menú era excelente, al igual ...        Positive"
      ]
     },
     "execution_count": 4,
     "metadata": {},
     "output_type": "execute_result"
    }
   ],
   "source": [
    "#Se limpian los comentarios para posteriormente preprocesarlos\n",
    "data_clean = data.copy()\n",
    "data_clean['content_clean'] = data_clean['content'].apply(lambda x: BeautifulSoup(x, \"lxml\").text) # Se modifica el nombre de la columna content (sobre los comentarios)\n",
    "data_clean = data_clean.loc[:, ['content_clean', 'Polarity_Rating']] # Se localizan las dos columnas de interes\n",
    "data_clean.head()"
   ]
  },
  {
   "cell_type": "markdown",
   "metadata": {},
   "source": [
    "### Preprocesamiento de los datos \n",
    "A pesar de que los métodos de extracción utilizados para obtener comentarios de los usuarios en las redes sociales dan una tabla que incluye los comentarios en una columna (content), los datos de texto presentes allí no se pueden alimentar a un modelo de machine learning tal como está. Por lo tanto, se deben seguir algunos pasos de preprocesamiento para garantizar que la entrada al modelo desarrollado sea la óptima y que se generen menos características."
   ]
  },
  {
   "cell_type": "code",
   "execution_count": 5,
   "metadata": {},
   "outputs": [],
   "source": [
    "data_clean['content_clean'] = data_clean['content_clean'].apply(lambda x: re.split('https:\\/\\/.*', str(x))[0]) #elimina url"
   ]
  },
  {
   "cell_type": "code",
   "execution_count": 6,
   "metadata": {},
   "outputs": [],
   "source": [
    "data_clean['content_clean'] = data_clean['content_clean'].apply(lambda x: re.split('\\d+', str(x))[0]) #elimina palabras con numeros"
   ]
  },
  {
   "cell_type": "code",
   "execution_count": 7,
   "metadata": {
    "scrolled": true
   },
   "outputs": [
    {
     "data": {
      "text/html": [
       "<div>\n",
       "<style scoped>\n",
       "    .dataframe tbody tr th:only-of-type {\n",
       "        vertical-align: middle;\n",
       "    }\n",
       "\n",
       "    .dataframe tbody tr th {\n",
       "        vertical-align: top;\n",
       "    }\n",
       "\n",
       "    .dataframe thead th {\n",
       "        text-align: right;\n",
       "    }\n",
       "</style>\n",
       "<table border=\"1\" class=\"dataframe\">\n",
       "  <thead>\n",
       "    <tr style=\"text-align: right;\">\n",
       "      <th></th>\n",
       "      <th>content_clean</th>\n",
       "      <th>Polarity_Rating</th>\n",
       "    </tr>\n",
       "  </thead>\n",
       "  <tbody>\n",
       "    <tr>\n",
       "      <th>0</th>\n",
       "      <td>Guau ... Me encantó este lugar.</td>\n",
       "      <td>Positive</td>\n",
       "    </tr>\n",
       "    <tr>\n",
       "      <th>1</th>\n",
       "      <td>La corteza no es buena.</td>\n",
       "      <td>Negative</td>\n",
       "    </tr>\n",
       "    <tr>\n",
       "      <th>2</th>\n",
       "      <td>No es sabroso y la textura era simplemente des...</td>\n",
       "      <td>Negative</td>\n",
       "    </tr>\n",
       "    <tr>\n",
       "      <th>3</th>\n",
       "      <td>Pasé por alí durante el feriado bancario de fi...</td>\n",
       "      <td>Positive</td>\n",
       "    </tr>\n",
       "    <tr>\n",
       "      <th>4</th>\n",
       "      <td>La seleción del menú era excelente, al igual q...</td>\n",
       "      <td>Positive</td>\n",
       "    </tr>\n",
       "    <tr>\n",
       "      <th>...</th>\n",
       "      <td>...</td>\n",
       "      <td>...</td>\n",
       "    </tr>\n",
       "    <tr>\n",
       "      <th>995</th>\n",
       "      <td>Creo que la comida debería tener sabor y textu...</td>\n",
       "      <td>Negative</td>\n",
       "    </tr>\n",
       "    <tr>\n",
       "      <th>996</th>\n",
       "      <td>El apetito desapareció instantáneamente.</td>\n",
       "      <td>Negative</td>\n",
       "    </tr>\n",
       "    <tr>\n",
       "      <th>997</th>\n",
       "      <td>En general, no me impresionó y no volvería.</td>\n",
       "      <td>Negative</td>\n",
       "    </tr>\n",
       "    <tr>\n",
       "      <th>998</th>\n",
       "      <td>Toda la experiencia fue decepcionante, y creo ...</td>\n",
       "      <td>Negative</td>\n",
       "    </tr>\n",
       "    <tr>\n",
       "      <th>999</th>\n",
       "      <td>Luego, como si no hubiera desperdiciado lo suf...</td>\n",
       "      <td>Negative</td>\n",
       "    </tr>\n",
       "  </tbody>\n",
       "</table>\n",
       "<p>1000 rows × 2 columns</p>\n",
       "</div>"
      ],
      "text/plain": [
       "                                         content_clean Polarity_Rating\n",
       "0                     Guau ... Me encantó este lugar.         Positive\n",
       "1                             La corteza no es buena.         Negative\n",
       "2    No es sabroso y la textura era simplemente des...        Negative\n",
       "3    Pasé por alí durante el feriado bancario de fi...        Positive\n",
       "4    La seleción del menú era excelente, al igual q...        Positive\n",
       "..                                                 ...             ...\n",
       "995  Creo que la comida debería tener sabor y textu...        Negative\n",
       "996          El apetito desapareció instantáneamente.         Negative\n",
       "997       En general, no me impresionó y no volvería.         Negative\n",
       "998  Toda la experiencia fue decepcionante, y creo ...        Negative\n",
       "999  Luego, como si no hubiera desperdiciado lo suf...        Negative\n",
       "\n",
       "[1000 rows x 2 columns]"
      ]
     },
     "execution_count": 7,
     "metadata": {},
     "output_type": "execute_result"
    }
   ],
   "source": [
    "#Elimina palabras con letras repetidas\n",
    "def conti_rep_char(str1):\n",
    "    tchr = str1.group(0)\n",
    "    if len(tchr) > 1:\n",
    "      return tchr[0:1]\n",
    "      \n",
    "def check_unique_char(rep, sent_text):\n",
    "    \n",
    "    convert = re.sub(r'(\\w)\\1+', \n",
    "                     rep,\n",
    "                     sent_text)\n",
    "      \n",
    "    # retorna la palabra convertida\n",
    "    return convert\n",
    "  \n",
    "data_clean['content_clean'] = data_clean['content_clean'].apply(\n",
    "                                   lambda x : check_unique_char(conti_rep_char,\n",
    "                                                              x))\n",
    "# mostrar Dataframe\n",
    "data_clean"
   ]
  },
  {
   "cell_type": "code",
   "execution_count": 8,
   "metadata": {},
   "outputs": [
    {
     "name": "stdout",
     "output_type": "stream",
     "text": [
      "Requirement already satisfied: emoji in c:\\users\\gpulg\\anaconda3\\lib\\site-packages (1.2.0)\n"
     ]
    }
   ],
   "source": [
    "# Para instalar paquete de emojis preestablecidos\n",
    "!pip install emoji"
   ]
  },
  {
   "cell_type": "code",
   "execution_count": 9,
   "metadata": {},
   "outputs": [],
   "source": [
    "# Se importa libreria emoji\n",
    "import emoji\n",
    "\n",
    "def get_mentions_processing(text):\n",
    "    return \" \".join(filter(lambda x:x[0]!='@', text.split())) #no menciones\n",
    "\n",
    "def get_hashtags_processing(text):\n",
    "    return \" \".join(filter(lambda x:x[0]!='#', text.split())) #no hashtags\n",
    "\n",
    "def get_emojis_processing(text):\n",
    "    return str(emoji.demojize(text,language='es')).replace(\":\",\" \") #emojis a texto\n",
    "\n",
    "def get_less3words_processing(text):\n",
    "    return ' '.join([word for word in text.split() if len(word)>2]) #palabras con menos de 3 caracteres\n",
    "\n",
    "def get_text_processing(text):\n",
    "    stpword = stopwords.words('spanish')\n",
    "    no_punctuation = [char for char in text if char not in string.punctuation] #elimina puntuacion\n",
    "    no_punctuation = ''.join(no_punctuation).lower() #convierte en minuscula\n",
    "    return ' '.join([word for word in no_punctuation.split() if word.lower() not in stpword]) #elimina stopwords"
   ]
  },
  {
   "cell_type": "code",
   "execution_count": 10,
   "metadata": {
    "scrolled": true
   },
   "outputs": [
    {
     "name": "stderr",
     "output_type": "stream",
     "text": [
      "[nltk_data] Downloading package stopwords to\n",
      "[nltk_data]     C:\\Users\\gpulg\\AppData\\Roaming\\nltk_data...\n",
      "[nltk_data]   Package stopwords is already up-to-date!\n"
     ]
    },
    {
     "data": {
      "text/html": [
       "<div>\n",
       "<style scoped>\n",
       "    .dataframe tbody tr th:only-of-type {\n",
       "        vertical-align: middle;\n",
       "    }\n",
       "\n",
       "    .dataframe tbody tr th {\n",
       "        vertical-align: top;\n",
       "    }\n",
       "\n",
       "    .dataframe thead th {\n",
       "        text-align: right;\n",
       "    }\n",
       "</style>\n",
       "<table border=\"1\" class=\"dataframe\">\n",
       "  <thead>\n",
       "    <tr style=\"text-align: right;\">\n",
       "      <th></th>\n",
       "      <th>content_clean</th>\n",
       "      <th>Polarity_Rating</th>\n",
       "      <th>Content_Review</th>\n",
       "      <th>Content_Review1</th>\n",
       "      <th>Content_Review2</th>\n",
       "      <th>Content_Review3</th>\n",
       "      <th>Content_Review4</th>\n",
       "    </tr>\n",
       "  </thead>\n",
       "  <tbody>\n",
       "    <tr>\n",
       "      <th>0</th>\n",
       "      <td>El nivel</td>\n",
       "      <td>Positive</td>\n",
       "      <td>El nivel</td>\n",
       "      <td>El nivel</td>\n",
       "      <td>El nivel</td>\n",
       "      <td>nivel</td>\n",
       "      <td>nivel</td>\n",
       "    </tr>\n",
       "    <tr>\n",
       "      <th>1</th>\n",
       "      <td>No sé cómo se las aregló este lugar para servi...</td>\n",
       "      <td>Negative</td>\n",
       "      <td>No sé cómo se las aregló este lugar para servi...</td>\n",
       "      <td>No sé cómo se las aregló este lugar para servi...</td>\n",
       "      <td>No sé cómo se las aregló este lugar para servi...</td>\n",
       "      <td>sé cómo aregló lugar servir comida blanda comi...</td>\n",
       "      <td>cómo aregló lugar servir comida blanda comido ...</td>\n",
       "    </tr>\n",
       "    <tr>\n",
       "      <th>2</th>\n",
       "      <td>Asegúrese de pedir postre, incluso si necesita...</td>\n",
       "      <td>Positive</td>\n",
       "      <td>Asegúrese de pedir postre, incluso si necesita...</td>\n",
       "      <td>Asegúrese de pedir postre, incluso si necesita...</td>\n",
       "      <td>Asegúrese de pedir postre, incluso si necesita...</td>\n",
       "      <td>asegúrese pedir postre incluso si necesita emp...</td>\n",
       "      <td>asegúrese pedir postre incluso necesita empaca...</td>\n",
       "    </tr>\n",
       "    <tr>\n",
       "      <th>3</th>\n",
       "      <td>Después de un bocado, me enganché.</td>\n",
       "      <td>Positive</td>\n",
       "      <td>Después de un bocado, me enganché.</td>\n",
       "      <td>Después de un bocado, me enganché.</td>\n",
       "      <td>Después de un bocado, me enganché.</td>\n",
       "      <td>después bocado enganché</td>\n",
       "      <td>después bocado enganché</td>\n",
       "    </tr>\n",
       "    <tr>\n",
       "      <th>4</th>\n",
       "      <td>Es PERFECTO para una comida familiar sentada o...</td>\n",
       "      <td>Positive</td>\n",
       "      <td>Es PERFECTO para una comida familiar sentada o...</td>\n",
       "      <td>Es PERFECTO para una comida familiar sentada o...</td>\n",
       "      <td>Es PERFECTO para una comida familiar sentada o...</td>\n",
       "      <td>perfecto comida familiar sentada reunirse amigos</td>\n",
       "      <td>perfecto comida familiar sentada reunirse amigos</td>\n",
       "    </tr>\n",
       "    <tr>\n",
       "      <th>...</th>\n",
       "      <td>...</td>\n",
       "      <td>...</td>\n",
       "      <td>...</td>\n",
       "      <td>...</td>\n",
       "      <td>...</td>\n",
       "      <td>...</td>\n",
       "      <td>...</td>\n",
       "    </tr>\n",
       "    <tr>\n",
       "      <th>995</th>\n",
       "      <td>Mi marido y yo comimos aquí y quedamos muy dec...</td>\n",
       "      <td>Negative</td>\n",
       "      <td>Mi marido y yo comimos aquí y quedamos muy dec...</td>\n",
       "      <td>Mi marido y yo comimos aquí y quedamos muy dec...</td>\n",
       "      <td>Mi marido y yo comimos aquí y quedamos muy dec...</td>\n",
       "      <td>marido comimos aquí quedamos decepcionados com...</td>\n",
       "      <td>marido comimos aquí quedamos decepcionados com...</td>\n",
       "    </tr>\n",
       "    <tr>\n",
       "      <th>996</th>\n",
       "      <td>Es difícil juzgar si estos lados eran buenos p...</td>\n",
       "      <td>Negative</td>\n",
       "      <td>Es difícil juzgar si estos lados eran buenos p...</td>\n",
       "      <td>Es difícil juzgar si estos lados eran buenos p...</td>\n",
       "      <td>Es difícil juzgar si estos lados eran buenos p...</td>\n",
       "      <td>difícil juzgar si lados buenos asqueados espum...</td>\n",
       "      <td>difícil juzgar lados buenos asqueados espuma p...</td>\n",
       "    </tr>\n",
       "    <tr>\n",
       "      <th>997</th>\n",
       "      <td>Muy, muy decepcionado ordenó el plato de $</td>\n",
       "      <td>Negative</td>\n",
       "      <td>Muy, muy decepcionado ordenó el plato de $</td>\n",
       "      <td>Muy, muy decepcionado ordenó el plato de $</td>\n",
       "      <td>Muy, muy decepcionado ordenó el plato de $</td>\n",
       "      <td>decepcionado ordenó plato</td>\n",
       "      <td>decepcionado ordenó plato</td>\n",
       "    </tr>\n",
       "    <tr>\n",
       "      <th>998</th>\n",
       "      <td>Estoy super cabreado.</td>\n",
       "      <td>Negative</td>\n",
       "      <td>Estoy super cabreado.</td>\n",
       "      <td>Estoy super cabreado.</td>\n",
       "      <td>Estoy super cabreado.</td>\n",
       "      <td>super cabreado</td>\n",
       "      <td>super cabreado</td>\n",
       "    </tr>\n",
       "    <tr>\n",
       "      <th>999</th>\n",
       "      <td>¡Tan bueno como cuando lo tuve hace más de un ...</td>\n",
       "      <td>Positive</td>\n",
       "      <td>¡Tan bueno como cuando lo tuve hace más de un ...</td>\n",
       "      <td>¡Tan bueno como cuando lo tuve hace más de un ...</td>\n",
       "      <td>¡Tan bueno como cuando lo tuve hace más de un ...</td>\n",
       "      <td>¡tan bueno hace año</td>\n",
       "      <td>¡tan bueno hace año</td>\n",
       "    </tr>\n",
       "  </tbody>\n",
       "</table>\n",
       "<p>1000 rows × 7 columns</p>\n",
       "</div>"
      ],
      "text/plain": [
       "                                         content_clean Polarity_Rating  \\\n",
       "0                                            El nivel         Positive   \n",
       "1    No sé cómo se las aregló este lugar para servi...        Negative   \n",
       "2    Asegúrese de pedir postre, incluso si necesita...        Positive   \n",
       "3                  Después de un bocado, me enganché.         Positive   \n",
       "4    Es PERFECTO para una comida familiar sentada o...        Positive   \n",
       "..                                                 ...             ...   \n",
       "995  Mi marido y yo comimos aquí y quedamos muy dec...        Negative   \n",
       "996  Es difícil juzgar si estos lados eran buenos p...        Negative   \n",
       "997        Muy, muy decepcionado ordenó el plato de $         Negative   \n",
       "998                             Estoy super cabreado.         Negative   \n",
       "999  ¡Tan bueno como cuando lo tuve hace más de un ...        Positive   \n",
       "\n",
       "                                        Content_Review  \\\n",
       "0                                             El nivel   \n",
       "1    No sé cómo se las aregló este lugar para servi...   \n",
       "2    Asegúrese de pedir postre, incluso si necesita...   \n",
       "3                   Después de un bocado, me enganché.   \n",
       "4    Es PERFECTO para una comida familiar sentada o...   \n",
       "..                                                 ...   \n",
       "995  Mi marido y yo comimos aquí y quedamos muy dec...   \n",
       "996  Es difícil juzgar si estos lados eran buenos p...   \n",
       "997         Muy, muy decepcionado ordenó el plato de $   \n",
       "998                              Estoy super cabreado.   \n",
       "999  ¡Tan bueno como cuando lo tuve hace más de un ...   \n",
       "\n",
       "                                       Content_Review1  \\\n",
       "0                                             El nivel   \n",
       "1    No sé cómo se las aregló este lugar para servi...   \n",
       "2    Asegúrese de pedir postre, incluso si necesita...   \n",
       "3                   Después de un bocado, me enganché.   \n",
       "4    Es PERFECTO para una comida familiar sentada o...   \n",
       "..                                                 ...   \n",
       "995  Mi marido y yo comimos aquí y quedamos muy dec...   \n",
       "996  Es difícil juzgar si estos lados eran buenos p...   \n",
       "997         Muy, muy decepcionado ordenó el plato de $   \n",
       "998                              Estoy super cabreado.   \n",
       "999  ¡Tan bueno como cuando lo tuve hace más de un ...   \n",
       "\n",
       "                                       Content_Review2  \\\n",
       "0                                             El nivel   \n",
       "1    No sé cómo se las aregló este lugar para servi...   \n",
       "2    Asegúrese de pedir postre, incluso si necesita...   \n",
       "3                   Después de un bocado, me enganché.   \n",
       "4    Es PERFECTO para una comida familiar sentada o...   \n",
       "..                                                 ...   \n",
       "995  Mi marido y yo comimos aquí y quedamos muy dec...   \n",
       "996  Es difícil juzgar si estos lados eran buenos p...   \n",
       "997         Muy, muy decepcionado ordenó el plato de $   \n",
       "998                              Estoy super cabreado.   \n",
       "999  ¡Tan bueno como cuando lo tuve hace más de un ...   \n",
       "\n",
       "                                       Content_Review3  \\\n",
       "0                                                nivel   \n",
       "1    sé cómo aregló lugar servir comida blanda comi...   \n",
       "2    asegúrese pedir postre incluso si necesita emp...   \n",
       "3                              después bocado enganché   \n",
       "4     perfecto comida familiar sentada reunirse amigos   \n",
       "..                                                 ...   \n",
       "995  marido comimos aquí quedamos decepcionados com...   \n",
       "996  difícil juzgar si lados buenos asqueados espum...   \n",
       "997                          decepcionado ordenó plato   \n",
       "998                                     super cabreado   \n",
       "999                                ¡tan bueno hace año   \n",
       "\n",
       "                                       Content_Review4  \n",
       "0                                                nivel  \n",
       "1    cómo aregló lugar servir comida blanda comido ...  \n",
       "2    asegúrese pedir postre incluso necesita empaca...  \n",
       "3                              después bocado enganché  \n",
       "4     perfecto comida familiar sentada reunirse amigos  \n",
       "..                                                 ...  \n",
       "995  marido comimos aquí quedamos decepcionados com...  \n",
       "996  difícil juzgar lados buenos asqueados espuma p...  \n",
       "997                          decepcionado ordenó plato  \n",
       "998                                     super cabreado  \n",
       "999                                ¡tan bueno hace año  \n",
       "\n",
       "[1000 rows x 7 columns]"
      ]
     },
     "execution_count": 10,
     "metadata": {},
     "output_type": "execute_result"
    }
   ],
   "source": [
    "# Se importan y se descargan stopwords preestablecidos\n",
    "from nltk.corpus import stopwords\n",
    "nltk.download('stopwords')\n",
    "data_clean = data_clean.sample(frac=1).reset_index(drop=True)\n",
    "df1 = pd.DataFrame()\n",
    "df1 = data_clean\n",
    "df1['content_clean'] = data_clean['content_clean']\n",
    "df1['Content_Review'] = data_clean['content_clean'].apply(get_mentions_processing)\n",
    "df1['Content_Review1'] = df1['Content_Review'].apply(get_hashtags_processing)\n",
    "df1['Content_Review2'] = df1['Content_Review1'].apply(get_emojis_processing)\n",
    "df1['Content_Review3'] = df1['Content_Review2'].apply(get_text_processing)\n",
    "df1['Content_Review4'] = df1['Content_Review3'].apply(get_less3words_processing) #En un dataframe, se remueven los stopwords y obtienen los comentarios limpios con los que se va a trabajar\n",
    "df1"
   ]
  },
  {
   "cell_type": "code",
   "execution_count": 11,
   "metadata": {},
   "outputs": [
    {
     "data": {
      "text/html": [
       "<div>\n",
       "<style scoped>\n",
       "    .dataframe tbody tr th:only-of-type {\n",
       "        vertical-align: middle;\n",
       "    }\n",
       "\n",
       "    .dataframe tbody tr th {\n",
       "        vertical-align: top;\n",
       "    }\n",
       "\n",
       "    .dataframe thead th {\n",
       "        text-align: right;\n",
       "    }\n",
       "</style>\n",
       "<table border=\"1\" class=\"dataframe\">\n",
       "  <thead>\n",
       "    <tr style=\"text-align: right;\">\n",
       "      <th></th>\n",
       "      <th>Content_Review4</th>\n",
       "      <th>Polarity_Rating</th>\n",
       "    </tr>\n",
       "  </thead>\n",
       "  <tbody>\n",
       "    <tr>\n",
       "      <th>0</th>\n",
       "      <td>nivel</td>\n",
       "      <td>Positive</td>\n",
       "    </tr>\n",
       "    <tr>\n",
       "      <th>1</th>\n",
       "      <td>cómo aregló lugar servir comida blanda comido ...</td>\n",
       "      <td>Negative</td>\n",
       "    </tr>\n",
       "    <tr>\n",
       "      <th>2</th>\n",
       "      <td>asegúrese pedir postre incluso necesita empaca...</td>\n",
       "      <td>Positive</td>\n",
       "    </tr>\n",
       "    <tr>\n",
       "      <th>3</th>\n",
       "      <td>después bocado enganché</td>\n",
       "      <td>Positive</td>\n",
       "    </tr>\n",
       "    <tr>\n",
       "      <th>4</th>\n",
       "      <td>perfecto comida familiar sentada reunirse amigos</td>\n",
       "      <td>Positive</td>\n",
       "    </tr>\n",
       "  </tbody>\n",
       "</table>\n",
       "</div>"
      ],
      "text/plain": [
       "                                     Content_Review4 Polarity_Rating\n",
       "0                                              nivel        Positive\n",
       "1  cómo aregló lugar servir comida blanda comido ...        Negative\n",
       "2  asegúrese pedir postre incluso necesita empaca...        Positive\n",
       "3                            después bocado enganché        Positive\n",
       "4   perfecto comida familiar sentada reunirse amigos        Positive"
      ]
     },
     "execution_count": 11,
     "metadata": {},
     "output_type": "execute_result"
    }
   ],
   "source": [
    "# Se crea un dataframe con unicamente el comentario y su polaridad en cuanto al sentimiento\n",
    "df2 = pd.DataFrame()\n",
    "df2 = df1\n",
    "df2 = df1[['Content_Review4', 'Polarity_Rating']]\n",
    "df2.head()"
   ]
  },
  {
   "cell_type": "code",
   "execution_count": 12,
   "metadata": {
    "scrolled": true
   },
   "outputs": [
    {
     "name": "stdout",
     "output_type": "stream",
     "text": [
      "6\n",
      "(994, 2)\n"
     ]
    },
    {
     "name": "stderr",
     "output_type": "stream",
     "text": [
      "<ipython-input-12-178ae3d6fd43>:2: SettingWithCopyWarning: \n",
      "A value is trying to be set on a copy of a slice from a DataFrame.\n",
      "Try using .loc[row_indexer,col_indexer] = value instead\n",
      "\n",
      "See the caveats in the documentation: https://pandas.pydata.org/pandas-docs/stable/user_guide/indexing.html#returning-a-view-versus-a-copy\n",
      "  df2['Content_Review4'] = df2['Content_Review4'].replace('', np.nan) # Reemplazo los registros vacíos con NaN\n"
     ]
    },
    {
     "data": {
      "text/html": [
       "<div>\n",
       "<style scoped>\n",
       "    .dataframe tbody tr th:only-of-type {\n",
       "        vertical-align: middle;\n",
       "    }\n",
       "\n",
       "    .dataframe tbody tr th {\n",
       "        vertical-align: top;\n",
       "    }\n",
       "\n",
       "    .dataframe thead th {\n",
       "        text-align: right;\n",
       "    }\n",
       "</style>\n",
       "<table border=\"1\" class=\"dataframe\">\n",
       "  <thead>\n",
       "    <tr style=\"text-align: right;\">\n",
       "      <th></th>\n",
       "      <th>Content_Review4</th>\n",
       "      <th>Polarity_Rating</th>\n",
       "    </tr>\n",
       "  </thead>\n",
       "  <tbody>\n",
       "    <tr>\n",
       "      <th>0</th>\n",
       "      <td>nivel</td>\n",
       "      <td>Positive</td>\n",
       "    </tr>\n",
       "    <tr>\n",
       "      <th>1</th>\n",
       "      <td>cómo aregló lugar servir comida blanda comido ...</td>\n",
       "      <td>Negative</td>\n",
       "    </tr>\n",
       "    <tr>\n",
       "      <th>2</th>\n",
       "      <td>asegúrese pedir postre incluso necesita empaca...</td>\n",
       "      <td>Positive</td>\n",
       "    </tr>\n",
       "    <tr>\n",
       "      <th>3</th>\n",
       "      <td>después bocado enganché</td>\n",
       "      <td>Positive</td>\n",
       "    </tr>\n",
       "    <tr>\n",
       "      <th>4</th>\n",
       "      <td>perfecto comida familiar sentada reunirse amigos</td>\n",
       "      <td>Positive</td>\n",
       "    </tr>\n",
       "    <tr>\n",
       "      <th>...</th>\n",
       "      <td>...</td>\n",
       "      <td>...</td>\n",
       "    </tr>\n",
       "    <tr>\n",
       "      <th>995</th>\n",
       "      <td>marido comimos aquí quedamos decepcionados com...</td>\n",
       "      <td>Negative</td>\n",
       "    </tr>\n",
       "    <tr>\n",
       "      <th>996</th>\n",
       "      <td>difícil juzgar lados buenos asqueados espuma p...</td>\n",
       "      <td>Negative</td>\n",
       "    </tr>\n",
       "    <tr>\n",
       "      <th>997</th>\n",
       "      <td>decepcionado ordenó plato</td>\n",
       "      <td>Negative</td>\n",
       "    </tr>\n",
       "    <tr>\n",
       "      <th>998</th>\n",
       "      <td>super cabreado</td>\n",
       "      <td>Negative</td>\n",
       "    </tr>\n",
       "    <tr>\n",
       "      <th>999</th>\n",
       "      <td>¡tan bueno hace año</td>\n",
       "      <td>Positive</td>\n",
       "    </tr>\n",
       "  </tbody>\n",
       "</table>\n",
       "<p>994 rows × 2 columns</p>\n",
       "</div>"
      ],
      "text/plain": [
       "                                       Content_Review4 Polarity_Rating\n",
       "0                                                nivel        Positive\n",
       "1    cómo aregló lugar servir comida blanda comido ...        Negative\n",
       "2    asegúrese pedir postre incluso necesita empaca...        Positive\n",
       "3                              después bocado enganché        Positive\n",
       "4     perfecto comida familiar sentada reunirse amigos        Positive\n",
       "..                                                 ...             ...\n",
       "995  marido comimos aquí quedamos decepcionados com...        Negative\n",
       "996  difícil juzgar lados buenos asqueados espuma p...        Negative\n",
       "997                          decepcionado ordenó plato        Negative\n",
       "998                                     super cabreado        Negative\n",
       "999                                ¡tan bueno hace año        Positive\n",
       "\n",
       "[994 rows x 2 columns]"
      ]
     },
     "execution_count": 12,
     "metadata": {},
     "output_type": "execute_result"
    }
   ],
   "source": [
    "# Elimino registros con Answers NaN\n",
    "df2['Content_Review4'] = df2['Content_Review4'].replace('', np.nan) # Reemplazo los registros vacíos con NaN\n",
    "print(df2['Content_Review4'].isna().sum()) \n",
    "df2 = df2.dropna(axis=0, subset=['Content_Review4'])\n",
    "print(df2.shape)\n",
    "df2"
   ]
  },
  {
   "cell_type": "code",
   "execution_count": 13,
   "metadata": {
    "scrolled": true
   },
   "outputs": [
    {
     "name": "stdout",
     "output_type": "stream",
     "text": [
      "Negative    498\n",
      "Positive    496\n",
      "Name: Polarity_Rating, dtype: int64\n"
     ]
    }
   ],
   "source": [
    "# Se cuenta el numero de comentarios por cada polaridad\n",
    "print(df2['Polarity_Rating'].value_counts())"
   ]
  },
  {
   "cell_type": "markdown",
   "metadata": {},
   "source": [
    "### División de entrenamiento y prueba (Train / Test Slit)\n",
    "Para mejorar la precisión del modelo SVM posterior, se lleva a cabo un enfoque de evaluación llamado Train/Test Split, mediante el cual se divide el set de datos en conjuntos de entrenamiento y prueba, los cuales son mutuamente exclusivos. Luego de ello, se entrena con el conjunto de entrenamiento y se prueba con el conjunto de prueba."
   ]
  },
  {
   "cell_type": "code",
   "execution_count": 14,
   "metadata": {},
   "outputs": [],
   "source": [
    "# Se realiza la division del set de datos en entrenamiento y prueba\n",
    "from sklearn.model_selection import train_test_split\n",
    "\n",
    "train, test = train_test_split(df2, test_size=0.3, random_state=42) \n",
    "X_train = train['Content_Review4'].values\n",
    "X_test = test['Content_Review4'].values\n",
    "y_train = train['Polarity_Rating']\n",
    "y_test = test['Polarity_Rating']"
   ]
  },
  {
   "cell_type": "code",
   "execution_count": 15,
   "metadata": {},
   "outputs": [
    {
     "name": "stdout",
     "output_type": "stream",
     "text": [
      "(695,)\n",
      "(299,)\n",
      "(695,)\n",
      "(299,)\n"
     ]
    }
   ],
   "source": [
    "# Se imprime la cantidad de palabras de cada set (entrenamiento y prueba)\n",
    "print(X_train.shape)\n",
    "print(X_test.shape)\n",
    "print(y_train.shape)\n",
    "print(y_test.shape)"
   ]
  },
  {
   "cell_type": "markdown",
   "metadata": {},
   "source": [
    "### Extracción de características\n",
    "La extracción de características es el proceso mediante el cual se pueden obtener características relevantes a partir de datos textuales sin procesar. Para llevar a cabo esta extracción se toman en cuenta las siguientes funciones:\n",
    "\n",
    "**Countvectorizer:** Esta función transforma el texto en vectores de datos numéricos. Los algoritmos de machine learning deben trabajar con datos numéricos como entrada, por lo que se necesita vectorización para desarrollar un modelo (Scikit-Learn, 2020)."
   ]
  },
  {
   "cell_type": "code",
   "execution_count": 16,
   "metadata": {},
   "outputs": [],
   "source": [
    "vect1 = CountVectorizer()\n",
    "X_train = vect1.fit_transform(X_train) # Se hace la transformacion para el set de entrenamiento \n",
    "X_test = vect1.transform(X_test) # Se hace la transformacion para el set de prueba "
   ]
  },
  {
   "cell_type": "code",
   "execution_count": 17,
   "metadata": {},
   "outputs": [
    {
     "name": "stdout",
     "output_type": "stream",
     "text": [
      "(695, 1695)\n",
      "(299, 1695)\n",
      "(695,)\n",
      "(299,)\n"
     ]
    }
   ],
   "source": [
    "# Se vuelve a imprimir la cantidad de palabras de cada set \n",
    "print(X_train.shape)\n",
    "print(X_test.shape)\n",
    "print(y_train.shape)\n",
    "print(y_test.shape)"
   ]
  },
  {
   "cell_type": "code",
   "execution_count": 18,
   "metadata": {
    "scrolled": false
   },
   "outputs": [
    {
     "name": "stdout",
     "output_type": "stream",
     "text": [
      "['abrumado', 'abrí', 'absolutamente', 'absoluto', 'abstenido', 'abundante', 'aburida', 'aburidos', 'acabo', 'aceitunas', 'acompañamientos', 'actitudes', 'actualización', 'actuaron', 'adaptado', 'además', 'aderezo', 'adicional', 'adivinen', 'adiós', 'adjunto', 'administración', 'aeropuerto', 'agradable', 'agradables', 'agradecimiento', 'agregaron', 'agregó', 'agria', 'agua', 'aguacate', 'aguada', 'agujero', 'ahora', 'ahorar', 'ahumado', 'aires', 'ajo', 'alambre', 'alargando', 'alas', 'albondigas', 'albóndigas', 'alcaparas', 'alegró', 'alejado', 'algo', 'alguien', 'alguna', 'alimentos', 'alitas', 'almorzar', 'almuerzo', 'alrededor', 'alta', 'alucinante', 'alí', 'amable', 'amables', 'amantes', 'amarilo', 'ambas', 'ambiente', 'ambos', 'amigo', 'amigos', 'amo', 'amplia', 'anfitriona', 'anfitrión', 'anguila', 'anoche', 'anticipación', 'antiguos', 'antojo', 'aparecerá', 'apenas', 'aperitivo', 'aperitivos', 'apesta', 'apestaba', 'apestan', 'apetito', 'aproximadamente', 'aquelos', 'aquí', 'arastrarme', 'areglos', 'aregló', 'aria', 'ariba', 'aros', 'aroz', 'artesanales', 'articulación', 'arándano', 'asado', 'asador', 'asegurar', 'asegúrese', 'asequibles', 'asientos', 'asombroso', 'aspecto', 'aspectos', 'asqueado', 'asqueados', 'asquerosa', 'asqueroso', 'así', 'atack', 'atención', 'atendido', 'atendidos', 'atendía', 'atento', 'atentos', 'atroz', 'atún', 'auju', 'aunque', 'auto', 'autobús', 'auténtica', 'auténtico', 'aventurarse', 'aventurarte', 'avión', 'ayudando', 'ayudó', 'azafrán', 'azucaradas', 'azucarado', 'año', 'años', 'aún', 'bachi', 'bagels', 'bahía', 'bajando', 'bajo', 'bambú', 'bancario', 'banda', 'bar', 'bara', 'baratas', 'barbacoa', 'bares', 'bariga', 'baril', 'bario', 'basado', 'bastante', 'batatas', 'batidos', 'bay', 'baño', 'baños', 'beateous', 'bebidas', 'bebé', 'belagio', 'bien', 'bienvenidos', 'bisque', 'bistec', 'bistecs', 'blah', 'blanco', 'bland', 'blanda', 'blody', 'bloque', 'boba', 'boca', 'bocado', 'bocados', 'bocas', 'bol', 'bola', 'bomberos', 'boniatos', 'bonita', 'bonito', 'borachos', 'breze', 'brindando', 'brotes', 'brunch', 'bruscamente', 'bruscheta', 'buen', 'buena', 'buenas', 'bueno', 'buenos', 'bufet', 'bufets', 'buldogis', 'burger', 'buritos', 'busca', 'buscas', 'busel', 'básicamente', 'béisbol', 'cabra', 'cada', 'caer', 'café', 'caja', 'cajero', 'calabaza', 'cale', 'calejeros', 'calentador', 'calidad', 'caliente', 'calientes', 'calificó', 'caligrafía', 'calor', 'camarera', 'camareras', 'camarero', 'camarones', 'cambia', 'camelback', 'canciones', 'cangrejo', 'cangrejos', 'cantidad', 'cape', 'cara', 'carbonizado', 'carbón', 'cargada', 'carito', 'cariñoso', 'carly', 'carne', 'carnes', 'caro', 'cartel', 'casa', 'casera', 'caseras', 'casero', 'casi', 'caso', 'casos', 'cayendo', 'cebola', 'cena', 'cenar', 'cenaré', 'centavo', 'centro', 'centímetros', 'cené', 'cerca', 'cerdo', 'cero', 'cerveza', 'cervezas', 'chai', 'chef', 'chefs', 'cheque', 'chico', 'china', 'chipolte', 'chipotle', 'choux', 'chow', 'cibo', 'cinco', 'cine', 'ciudad', 'clase', 'clavo', 'cliente', 'clientes', 'club', 'clásicos', 'cobrado', 'cobran', 'cocida', 'cocidas', 'cocido', 'cocina', 'cocinada', 'cocinado', 'cocinados', 'cocinar', 'cod', 'codiciosa', 'cofe', 'coherente', 'coles', 'color', 'combo', 'comedor', 'comenzamos', 'comenzara', 'comer', 'comercial', 'comerla', 'comestible', 'comestibles', 'comida', 'comidas', 'comido', 'comiendo', 'comió', 'comodidad', 'compañeros', 'compañía', 'complacidos', 'completamente', 'compran', 'comprando', 'compruébelo', 'compré', 'comí', 'condimento', 'conducir', 'congeladas', 'congelados', 'consecuencia', 'conseguimos', 'conseguir', 'considerando', 'consigo', 'construidos', 'contable', 'contado', 'contento', 'contenían', 'contigo', 'conveniente', 'convertiré', 'convirtió', 'copa', 'corazones', 'corazón', 'cordial', 'corecta', 'corectamente', 'coreo', 'coriendo', 'corijan', 'corporación', 'corteza', 'cortés', 'cosa', 'cosas', 'costa', 'costaba', 'costumbres', 'cota', 'cre', 'crear', 'crecen', 'crema', 'cremoso', 'creo', 'crepes', 'creí', 'crostini', 'crujiente', 'crujientes', 'crystals', 'críticas', 'crítico', 'cualidad', 'cualquier', 'cuantas', 'cuanto', 'cuarenta', 'cubrir', 'cuenta', 'cuero', 'cuesta', 'culminante', 'cumplirá', 'curso', 'cury', 'cuál', 'cuánto', 'cuñado', 'cálida', 'cálido', 'cóctel', 'cócteles', 'cómo', 'cómodo', 'dado', 'damas', 'daría', 'de', 'debajo', 'debe', 'deben', 'debería', 'deberías', 'debes', 'decepcionado', 'decepcionados', 'decepcionante', 'decepcionará', 'decepcionó', 'decepción', 'decidir', 'decidí', 'decir', 'decirles', 'decirte', 'decisión', 'decoración', 'decorado', 'decía', 'decían', 'dedicados', 'dedo', 'def', 'deficiente', 'definitivamente', 'deja', 'dejar', 'dejaron', 'dejé', 'delgada', 'delgados', 'delicia', 'delicias', 'deliciosa', 'deliciosas', 'delicioso', 'deliciosos', 'delight', 'demasiado', 'demasiados', 'demonios', 'demostró', 'dentro', 'denys', 'deretida', 'deriten', 'desacuerdo', 'desagradable', 'desapareció', 'desastre', 'desayunar', 'desayuno', 'descanso', 'descomponga', 'descripciones', 'descubrió', 'descubrí', 'descuento', 'desear', 'desearía', 'desenvolví', 'desmenuzado', 'desperdiciado', 'desperdiciar', 'despreciable', 'desprecio', 'después', 'destacados', 'desvío', 'detrás', 'detuve', 'deuchebagery', 'devolverlo', 'diarias', 'dicho', 'diciendo', 'dientes', 'dieron', 'diez', 'diferencia', 'diferente', 'diferentes', 'difícil', 'digo', 'dije', 'dijo', 'dile', 'dimos', 'dinero', 'dio', 'dios', 'diría', 'discos', 'discreto', 'disculpa', 'disculpó', 'disfruta', 'disfrutamos', 'disfrutan', 'disfrutar', 'disfruté', 'disgusto', 'distinguir', 'divertida', 'divertido', 'divertidos', 'divino', 'doble', 'dog', 'dolor', 'domingo', 'domingos', 'donas', 'dos', 'doy', 'drive', 'duda', 'dudo', 'duelen', 'dueños', 'dulce', 'dylan', 'débiles', 'día', 'dígale', 'dúo', 'echa', 'echaron', 'eclipsante', 'ecléctica', 'económico', 'edad', 'edificio', 'edimburgo', 'educación', 'efectivo', 'el', 'ela', 'electrónico', 'elegancia', 'elegante', 'elegir', 'elemento', 'elk', 'elos', 'embargo', 'emocionó', 'empapado', 'empeorando', 'empezar', 'empleado', 'encanta', 'encantador', 'encantados', 'encantan', 'encantaron', 'encantaría', 'encantó', 'encima', 'encontrado', 'encontrar', 'encontré', 'encontró', 'enfermarnos', 'enfermo', 'enfermos', 'enfermó', 'enfocada', 'enganché', 'enorme', 'enormes', 'ensalada', 'entiendo', 'entonces', 'entorno', 'entregados', 'entré', 'entusiasmados', 'equipo', 'equivocado', 'equivocarte', 'era', 'eror', 'escaso', 'escatimó', 'esforzarse', 'esfuerzo', 'espacio', 'espaguetis', 'especial', 'especiales', 'especialidades', 'especialmente', 'espera', 'esperaba', 'esperamos', 'esperando', 'esperanzas', 'esperar', 'esperaría', 'esperen', 'espero', 'esperé', 'esperó', 'espesos', 'espinacas', 'esponjosos', 'esposa', 'esposo', 'espuma', 'esta', 'establecimiento', 'estación', 'este', 'estilo', 'esto', 'estoy', 'estrela', 'estrelas', 'estropear', 'estómago', 'etc', 'eternidad', 'evitaremos', 'evite', 'evítalo', 'exactamente', 'exagerado', 'excelente', 'excelentes', 'excepcional', 'excremento', 'excusa', 'expandieran', 'expectativas', 'experiencia', 'experimentado', 'experimentar', 'experto', 'exquisito', 'extenso', 'extraño', 'extraños', 'extremadamente', 'fabulosa', 'factura', 'fala', 'falta', 'faltaba', 'falte', 'familia', 'familiar', 'familiares', 'familiarizado', 'famoso', 'fan', 'fantástica', 'fantástico', 'fantásticos', 'favor', 'favorables', 'favorito', 'felices', 'felicitaciones', 'feliz', 'fenomenales', 'feriado', 'fideos', 'filadelfia', 'filet', 'filete', 'fin', 'final', 'finales', 'finalmente', 'finas', 'flor', 'flower', 'fondue', 'fracaso', 'frambuesa', 'francamente', 'francisco', 'francés', 'frente', 'fresa', 'fresca', 'frescas', 'fresco', 'frescos', 'frijoles', 'fritas', 'frito', 'frustrado', 'fría', 'frío', 'fríos', 'fue', 'fuego', 'fuente', 'fumar', 'fundas', 'galeta', 'galetas', 'gama', 'ganas', 'ganga', 'gaste', 'general', 'generosas', 'generoso', 'genial', 'geniales', 'gente', 'genérica', 'gerencia', 'gerente', 'gestión', 'giratorias', 'giroscopios', 'giróscopo', 'gogle', 'gold', 'golpe', 'golpeó', 'goma', 'gordon', 'goteaban', 'gourmet', 'gran', 'grande', 'granos', 'grasa', 'gratitud', 'gravemente', 'griego', 'grifo', 'gril', 'gringos', 'grita', 'grosera', 'grosero', 'grupo', 'grupos', 'guacamole', 'guarniciones', 'guau', 'guisantes', 'gusta', 'gustan', 'gustara', 'gustaría', 'guste', 'gusto', 'gustó', 'haber', 'habitual', 'habla', 'hablan', 'hablando', 'hablar', 'hace', 'hacen', 'hacerlos', 'hacia', 'haciendo', 'hagas', 'halibut', 'hambre', 'hamburguesa', 'hamburguesas', 'haremos', 'hawaian', 'hazte', 'he', 'heart', 'hecha', 'hechas', 'hecho', 'heimer', 'helada', 'helado', 'hemos', 'herida', 'hermosa', 'hermoso', 'hervidos', 'hicieran', 'hicieron', 'hicimos', 'hija', 'hiro', 'historia', 'hizo', 'hola', 'honestamente', 'honesto', 'honestos', 'hora', 'horario', 'horible', 'horibles', 'horno', 'hortalizas', 'hospedando', 'hot', 'hotelera', 'hoy', 'huevo', 'huevos', 'humor', 'humus', 'hunan', 'húmedos', 'ians', 'iban', 'ido', 'ignorada', 'igual', 'igualmente', 'iluminación', 'imagen', 'imaginación', 'imaginativo', 'imagino', 'impecable', 'importaba', 'importar', 'imprescindibles', 'impresionado', 'impresionante', 'impresionó', 'incluso', 'incluía', 'inconsiderada', 'inconveniente', 'incredulidad', 'increíble', 'increíblemente', 'increíbles', 'incómodamente', 'incómodo', 'incómodos', 'india', 'indio', 'indiquen', 'industria', 'infarto', 'inflan', 'inglés', 'ingredientes', 'inmediatamente', 'inmediato', 'inmejorable', 'insatisfactoria', 'insatisfactorias', 'inspirado', 'instantáneamente', 'insultado', 'insultos', 'insípida', 'insípidos', 'intentado', 'intentar', 'intentaremos', 'intenté', 'interesante', 'interesantes', 'interior', 'invitado', 'iregular', 'iremos', 'irme', 'irnos', 'ironman', 'italiana', 'italiano', 'jamaicanos', 'jamás', 'japonés', 'jardín', 'jeni', 'jodidamente', 'jodiendo', 'joya', 'juegos', 'jugo', 'justa', 'justo', 'juzgar', 'kabuki', 'la', 'lado', 'lados', 'ladrilo', 'lamarte', 'lamentablemente', 'langosta', 'largo', 'las', 'late', 'leal', 'lechuga', 'legada', 'legamos', 'legaría', 'legit', 'legítima', 'legó', 'lejos', 'lena', 'lenar', 'leno', 'lenos', 'lento', 'lené', 'levar', 'levé', 'libro', 'ligera', 'limitaban', 'limpia', 'limpio', 'limón', 'lindo', 'lista', 'literalmente', 'llegué', 'lo', 'los', 'luche', 'luego', 'lugar', 'lugares', 'lujos', 'lástima', 'macarons', 'madison', 'magic', 'mal', 'mala', 'malditas', 'malgastes', 'malo', 'mamá', 'manchado', 'mandalay', 'manera', 'mango', 'manicomio', 'mano', 'manta', 'mantenidas', 'manteniendo', 'mantente', 'mantequila', 'mantuvo', 'manténgase', 'manzana', 'maní', 'maravilosa', 'maraviloso', 'marchamos', 'margaritas', 'marisco', 'mariscos', 'martini', 'mary', 'maría', 'marón', 'masa', 'masticable', 'masticables', 'mayo', 'mayonesa', 'mayor', 'mayoría', 'maíz', 'me', 'media', 'medio', 'mediocre', 'mediocres', 'mein', 'mejilones', 'mejor', 'mejoras', 'mejores', 'menos', 'menú', 'menús', 'merece', 'mesa', 'mesas', 'mesera', 'metro', 'mexicana', 'mexicanos', 'mgm', 'mi', 'mientras', 'mierda', 'militar', 'mimo', 'minutos', 'mio', 'mirando', 'misma', 'mismo', 'mismos', 'mitad', 'mixtas', 'moderno', 'modo', 'modos', 'mojitos', 'molestes', 'molestos', 'molestó', 'momento', 'monstruo', 'montón', 'morirse', 'mosca', 'mostrar', 'moz', 'mucha', 'muchas', 'mudaron', 'muera', 'mundo', 'muy', 'médula', 'múltiples', 'música', 'nachos', 'nadie', 'nan', 'nargile', 'necesario', 'necesidades', 'necesitaba', 'necesitan', 'necesitar', 'necesitábamos', 'negligente', 'negocio', 'negocios', 'negras', 'negro', 'neoyorquinos', 'ni', 'nigiri', 'ninguno', 'ningún', 'ninja', 'nivel', 'niño', 'niños', 'no', 'nobu', 'noca', 'noche', 'nochebuena', 'normalito', 'north', 'nos', 'nota', 'notaba', 'novia', 'novio', 'nueva', 'nuevamente', 'nuevo', 'nuevos', 'nuez', 'nunca', 'obligada', 'obtener', 'obtenido', 'obtienes', 'obtuve', 'obviamente', 'ocasiones', 'odio', 'oferta', 'ofertas', 'oficialmente', 'ofrece', 'ofrecen', 'ofrecían', 'ojo', 'ojos', 'olía', 'opciones', 'opinión', 'oportunidad', 'orden', 'ordenada', 'ordenado', 'ordene', 'ordeno', 'ordenó', 'oro', 'oruga', 'oscura', 'oscuro', 'oto', 'oído', 'padrinos', 'pagar', 'pagarme', 'pagas', 'pagué', 'palabra', 'palabras', 'paladar', 'palm', 'pan', 'pana', 'panadería', 'panceta', 'panecilo', 'panecilos', 'panqueque', 'panqueques', 'papa', 'papas', 'papel', 'papá', 'par', 'para', 'parada', 'paradise', 'parece', 'pareció', 'parecía', 'pared', 'parejas', 'parila', 'parte', 'partes', 'pasa', 'pasamos', 'pasar', 'pasaron', 'pastas', 'pastel', 'pasteles', 'pastosa', 'pasé', 'patas', 'patata', 'patatas', 'patio', 'pato', 'patrón', 'pausa', 'pavo', 'pechuga', 'pedazos', 'pedido', 'pedimos', 'pedir', 'pedí', 'pelo', 'pelota', 'pena', 'pene', 'pensamos', 'pensar', 'pensé', 'pensó', 'peor', 'peores', 'pequeñas', 'pequeño', 'pequeños', 'peras', 'perfeción', 'perfecta', 'perfectamente', 'perfecto', 'persona', 'personal', 'personas', 'pescado', 'pho', 'phoenix', 'piano', 'picante', 'picatostes', 'pida', 'pide', 'pidió', 'piensa', 'pierda', 'pierdas', 'pila', 'pilé', 'pimienta', 'pineaple', 'pintoresco', 'pisado', 'pita', 'piza', 'pizas', 'pizería', 'piñones', 'plana', 'plato', 'platos', 'plátanos', 'pocas', 'pocos', 'podría', 'podríamos', 'podrían', 'podrías', 'podía', 'poliestireno', 'polo', 'por', 'porciones', 'porción', 'poro', 'posible', 'positivo', 'postinos', 'postre', 'postres', 'precio', 'precios', 'preferiría', 'prefiere', 'prefiero', 'preguntar', 'pregunté', 'preparada', 'preparadas', 'preparado', 'preparan', 'preparando', 'presentación', 'primavera', 'primer', 'primera', 'primero', 'primeros', 'principal', 'principales', 'principio', 'prisa', 'privilegiado', 'probablemente', 'probada', 'probado', 'probar', 'problema', 'probé', 'profesional', 'profiteroles', 'profunda', 'promedio', 'pronto', 'propiedad', 'propietario', 'propietarios', 'propina', 'propinas', 'proporción', 'pruébelos', 'próxima', 'próximo', 'pude', 'puede', 'pueden', 'puedes', 'puedo', 'puesto', 'pulgar', 'punto', 'puré', 'pájaro', 'pálido', 'pérdida', 'pésima', 'pésimo', 'pídalo', 'público', 'quedado', 'quedamos', 'quedará', 'quedé', 'quejarme', 'quejé', 'quería', 'queríamos', 'queso', 'quiere', 'quieres', 'quiero', 'quince', 'quizás', 'qué', 'raciones', 'ramseys', 'ranch', 'rancio', 'rara', 'raro', 'rastreado', 'ravoli', 'razonable', 'razonables', 'reabastecieron', 'real', 'realmente', 'recarga', 'reciba', 'recibe', 'recibieron', 'recibimos', 'recibiré', 'recibí', 'reciente', 'recogí', 'recomendables', 'recomendación', 'recomendar', 'recomendaré', 'recomendaría', 'recomiendo', 'recordar', 'recordó', 'recuerda', 'recuerdo', 'redentora', 'reducen', 'redución', 'refritos', 'refugio', 'regalo', 'registradora', 'regresado', 'regresando', 'regrese', 'regresé', 'regresó', 'regular', 'regularidad', 'relación', 'relajado', 'relajarse', 'releno', 'repartidor', 'repugnante', 'requesón', 'reserva', 'restaurante', 'restaurantes', 'resto', 'reunirse', 'revisó', 'rica', 'rick', 'risoto', 'ritmo', 'rodajas', 'rojo', 'rolitos', 'romper', 'rosbif', 'ruda', 'ryans', 'rápidamente', 'rápido', 'saben', 'saber', 'sabor', 'sabrosa', 'sabrosas', 'sabroso', 'sabía', 'sabían', 'sal', 'salado', 'salieron', 'salimos', 'salir', 'salió', 'salmón', 'sals', 'salsa', 'salsas', 'salteados', 'saluda', 'saludable', 'saludarte', 'salí', 'san', 'sangriento', 'sangría', 'sargento', 'sashimi', 'satisfecho', 'satisfechos', 'scotsdale', 'seca', 'secas', 'seco', 'secos', 'segunda', 'seguro', 'seguí', 'seguía', 'seis', 'seleciones', 'seleción', 'semana', 'semanal', 'sensación', 'sentada', 'sentado', 'sentamos', 'sentaran', 'sentarse', 'sentir', 'sentirme', 'sentirá', 'sentí', 'sentía', 'ser', 'serio', 'servicial', 'servicio', 'serviciocheque', 'servicios', 'servidor', 'servidores', 'servidos', 'servir', 'servirlo', 'servía', 'será', 'setas', 'señal', 'señale', 'señales', 'señora', 'shawarma', 'shop', 'sido', 'siempre', 'siendo', 'siento', 'significa', 'similar', 'simple', 'simplemente', 'simples', 'sin', 'sino', 'siquiera', 'sirva', 'sirve', 'sirven', 'sirvieron', 'sitio', 'smashburger', 'sobrecargar', 'sobrevalorado', 'sobrevino', 'sola', 'solicitamos', 'solidificarlo', 'solo', 'solía', 'sonido', 'sonora', 'sopa', 'sopas', 'soportar', 'sorprendió', 'soñado', 'standard', 'steak', 'steiners', 'steve', 'strip', 'su', 'suave', 'sucedido', 'sucios', 'suculentos', 'suelo', 'suertes', 'suficiente', 'suficientemente', 'sufre', 'sufrir', 'super', 'supera', 'superaba', 'superar', 'supone', 'supuesto', 'sus', 'sushi', 'sábados', 'sándwich', 'sólido', 'súper', 'taco', 'tacos', 'tada', 'tai', 'tailandesa', 'tailandés', 'tal', 'también', 'tampoco', 'tan', 'tantas', 'tanto', 'tapas', 'tardaron', 'tarde', 'tardé', 'tartar', 'te', 'temor', 'tercer', 'terciopelo', 'terible', 'terminado', 'terminamos', 'terminó', 'ternera', 'textura', 'thru', 'tibia', 'tiempo', 'tiempos', 'tienda', 'tiendas', 'tiernas', 'tierno', 'tiernos', 'tigerlily', 'tipo', 'tiros', 'tocando', 'tocino', 'toda', 'todas', 'todavía', 'todo', 'todos', 'tomar', 'tomate', 'tomé', 'tomó', 'tonto', 'toque', 'tortilas', 'tostado', 'tostar', 'total', 'totalmente', 'trabaja', 'trabajar', 'trabajo', 'tradicional', 'traer', 'traernos', 'traes', 'tragedia', 'trajeron', 'trajo', 'tramo', 'trampa', 'tratado', 'tratados', 'tratando', 'trato', 'treinta', 'tres', 'tristes', 'trozo', 'tucson', 'tuétano', 'típica', 'ubicado', 'un', 'unas', 'universitaria', 'unreal', 'usted', 'vaca', 'vainila', 'vale', 'valey', 'valía', 'vano', 'variado', 'varias', 'vaya', 'vayas', 'veces', 'vegas', 'vegetariana', 'vegetariano', 'ven', 'venir', 'ventaja', 'ventajas', 'ventilación', 'venía', 'venían', 'veo', 'ver', 'verdad', 'verdadera', 'verdadero', 'verdaderos', 'verde', 'verduras', 'vergüenza', 'verlos', 'versión', 'verá', 'vez', 'viaje', 'viajes', 'vida', 'vieira', 'vieja', 'viejas', 'vienes', 'vientres', 'vinagreta', 'vine', 'vinegrete', 'viniendo', 'vinimos', 'vino', 'vinos', 'violinistas', 'visita', 'visitado', 'visitar', 'visité', 'vista', 'vistazo', 'visto', 'viva', 'vivido', 'viviendo', 'vivo', 'vodka', 'volar', 'volvamos', 'volver', 'volveremos', 'volveré', 'volvería', 'volví', 'vomité', 'voy', 'vuelto', 'vuelva', 'vuelves', 'vuelvo', 'way', 'web', 'wonton', 'yama', 'yelpers', 'yendo', 'yukón', 'zapato', 'área', 'échale', 'éxito', 'ñam', 'ósea', 'última', 'únase', 'única', 'único']\n"
     ]
    }
   ],
   "source": [
    "# Se imprimen los vectores de features (palabras de comentarios)\n",
    "print(vect1.get_feature_names())"
   ]
  },
  {
   "cell_type": "markdown",
   "metadata": {},
   "source": [
    "**TF-IDF Vectorization:** Esta función es usada para vectorizar los comentarios, lo cual se logra a través de la multiplicación de la frecuencia de un término (TF) por su frecuencia de documento inversa (IDF). El resultado final es un vector para cada comentario que contiene las puntuaciones TF-IDF para cada característica (Nguyen, 2008). "
   ]
  },
  {
   "cell_type": "code",
   "execution_count": 19,
   "metadata": {},
   "outputs": [],
   "source": [
    "# Se mide la importancia de cada termino en base a su frecuencia\n",
    "from sklearn.feature_extraction.text import TfidfTransformer\n",
    "tfidf = TfidfTransformer()\n",
    "X_train = tfidf.fit_transform(X_train)\n",
    "X_test = tfidf.transform(X_test)\n",
    "X_train = X_train.toarray()\n",
    "X_test = X_test.toarray()"
   ]
  },
  {
   "cell_type": "code",
   "execution_count": 20,
   "metadata": {
    "scrolled": true
   },
   "outputs": [
    {
     "name": "stdout",
     "output_type": "stream",
     "text": [
      "(695, 1695)\n",
      "(299, 1695)\n",
      "(695,)\n",
      "(299,)\n"
     ]
    }
   ],
   "source": [
    "# Se vuelve a imprimir la cantidad de palabras de cada set \n",
    "print(X_train.shape)\n",
    "print(X_test.shape)\n",
    "print(y_train.shape)\n",
    "print(y_test.shape)"
   ]
  },
  {
   "cell_type": "markdown",
   "metadata": {},
   "source": [
    "### Reducción de dimensionalidad\n",
    "La dimensionalidad de los datos se refiere al número de atributos o variables de entrada que describen cada registro en los datos. De esta manera, es muy importante aplicar la reducción de dimensionalidad o la reducción del número de atributos para el procesamiento de un conjunto de datos de alta dimensión (Song et.al, 2013). Para este modelo se implemento la siguiente técnica de reducción de dimensionalidad:\n",
    "\n",
    "**Singular Value Decomposition (SVD):** Es una técnica que se utiliza para descomponer una matriz en varias matrices componentes más pequeñas o en un número menor de factores (factorización), conservando la información más importante de la matriz original (Ientilucci, 2003)."
   ]
  },
  {
   "cell_type": "code",
   "execution_count": 21,
   "metadata": {},
   "outputs": [
    {
     "data": {
      "text/plain": [
       "TruncatedSVD(n_components=5, n_iter=7, random_state=42)"
      ]
     },
     "execution_count": 21,
     "metadata": {},
     "output_type": "execute_result"
    }
   ],
   "source": [
    "# Se aplica la reduccion de dimensionalidad mediante la tecnica SVD\n",
    "from sklearn.decomposition import TruncatedSVD\n",
    "from scipy.sparse import random as sparse_random\n",
    "svd = TruncatedSVD(n_components=5, n_iter=7, random_state=42) # Se establecen los parametros correspondientes\n",
    "svd.fit(X_train) # Se ajusta el svd"
   ]
  },
  {
   "cell_type": "code",
   "execution_count": 22,
   "metadata": {},
   "outputs": [],
   "source": [
    "# Se establece el numero de componentes e iteraciones para el SVD\n",
    "svd = TruncatedSVD(n_components=1500, n_iter=7, random_state=42)\n",
    "svd.fit(X_train)\n",
    "percent_variance_retained = svd.explained_variance_ / np.sum(svd.explained_variance_)\n",
    "cumulative_variance_retained = np.cumsum(percent_variance_retained) # se calcula la varianza acumulada retenida"
   ]
  },
  {
   "cell_type": "code",
   "execution_count": 23,
   "metadata": {
    "scrolled": true
   },
   "outputs": [
    {
     "data": {
      "image/png": "[encoded data removed]",
      "text/plain": [
       "<Figure size 720x432 with 1 Axes>"
      ]
     },
     "metadata": {
      "needs_background": "light"
     },
     "output_type": "display_data"
    }
   ],
   "source": [
    "# Se grafica la curva del numero de componentes vs. la varianza acumulada retenida\n",
    "import matplotlib.pyplot as plt\n",
    "plt.figure(1, figsize=(10, 6))\n",
    "plt.clf()\n",
    "plt.plot(cumulative_variance_retained, linewidth=2)\n",
    "plt.axis('tight')\n",
    "plt.grid()\n",
    "plt.xlabel('Number of Components') # Se nombra el eje x\n",
    "plt.ylabel('Cumulative variance Retained') # Se nombra el eje y\n",
    "plt.show()"
   ]
  },
  {
   "cell_type": "code",
   "execution_count": 24,
   "metadata": {},
   "outputs": [],
   "source": [
    "# CHOOSE K\n",
    "from sklearn.preprocessing import StandardScaler\n",
    "from sklearn.decomposition import TruncatedSVD\n",
    "from scipy.sparse import csr_matrix\n",
    "from sklearn import datasets\n",
    "import pandas as pd "
   ]
  },
  {
   "cell_type": "code",
   "execution_count": 25,
   "metadata": {},
   "outputs": [],
   "source": [
    "digits = X_train\n",
    "\n",
    "# Standardize the feature matrix\n",
    "X = StandardScaler().fit_transform(digits.data)\n",
    "\n",
    "# Make sparse matrix\n",
    "X_sparse = csr_matrix(X)"
   ]
  },
  {
   "cell_type": "code",
   "execution_count": 26,
   "metadata": {},
   "outputs": [
    {
     "data": {
      "text/plain": [
       "1694"
      ]
     },
     "execution_count": 26,
     "metadata": {},
     "output_type": "execute_result"
    }
   ],
   "source": [
    "X_sparse.shape[1]-1"
   ]
  },
  {
   "cell_type": "code",
   "execution_count": 27,
   "metadata": {},
   "outputs": [],
   "source": [
    "# Create and run an TSVD with one less than number of features\n",
    "tsvd = TruncatedSVD(n_components=X_sparse.shape[1]-1)\n",
    "X_tsvd = tsvd.fit(X)"
   ]
  },
  {
   "cell_type": "code",
   "execution_count": 28,
   "metadata": {},
   "outputs": [],
   "source": [
    "# List of explained variances\n",
    "tsvd_var_ratios = tsvd.explained_variance_ratio_"
   ]
  },
  {
   "cell_type": "code",
   "execution_count": 29,
   "metadata": {},
   "outputs": [],
   "source": [
    "# Create a function\n",
    "def select_n_components(var_ratio, goal_var: float) -> int:\n",
    "    # Set initial variance explained so far\n",
    "    total_variance = 0.0\n",
    "    \n",
    "    # Set initial number of features\n",
    "    n_components = 0\n",
    "    \n",
    "    # For the explained variance of each feature:\n",
    "    for explained_variance in var_ratio:\n",
    "        \n",
    "        # Add the explained variance to the total\n",
    "        total_variance += explained_variance\n",
    "        \n",
    "        # Add one to the number of components\n",
    "        n_components += 1\n",
    "        \n",
    "        # If we reach our goal level of explained variance\n",
    "        if total_variance >= goal_var:\n",
    "            # End the loop\n",
    "            break\n",
    "            \n",
    "    # Return the number of components\n",
    "    return n_components"
   ]
  },
  {
   "cell_type": "code",
   "execution_count": 30,
   "metadata": {},
   "outputs": [
    {
     "data": {
      "text/plain": [
       "518"
      ]
     },
     "execution_count": 30,
     "metadata": {},
     "output_type": "execute_result"
    }
   ],
   "source": [
    "# Run function\n",
    "select_n_components(tsvd_var_ratios, 0.95)"
   ]
  },
  {
   "cell_type": "code",
   "execution_count": 31,
   "metadata": {},
   "outputs": [],
   "source": [
    "# Se determina el numero de componentes en base a la curva \n",
    "NComponents = 513\n",
    "svd = TruncatedSVD(n_components=NComponents, n_iter=7, random_state=42) # Se establecen los parametros correspondientes\n",
    "X_svd_train = svd.fit_transform(X_train) #Se define un nuevo set de entrenamiento X, transformando el anterior mediante la aplicacion del svd\n",
    "X_svd_test = svd.transform(X_test) #Se define un nuevo set de prueba X, transformando el anterior mediante la aplicacion del svd"
   ]
  },
  {
   "cell_type": "code",
   "execution_count": 32,
   "metadata": {
    "scrolled": true
   },
   "outputs": [
    {
     "name": "stdout",
     "output_type": "stream",
     "text": [
      "(695, 513)\n",
      "(299, 513)\n",
      "(695,)\n",
      "(299,)\n"
     ]
    }
   ],
   "source": [
    "# Se verifica la cantidad de palabras de cada set \n",
    "print(X_svd_train.shape)\n",
    "print(X_svd_test.shape)\n",
    "print(y_train.shape)\n",
    "print(y_test.shape)"
   ]
  },
  {
   "attachments": {
    "svm.png": {
     "image/png": "[encoded data removed]"
    }
   },
   "cell_type": "markdown",
   "metadata": {},
   "source": [
    "### Modelamiento: Support Vector Machine (SVM)\n",
    "Según Dubiau, se trata de un algoritmo o método supervisado de clasificación binaria en el que el entrenamiento de los datos consiste en encontrar un hiperplano óptimo que separe los vectores, los cuales representan los textos de un conjunto de datos (vectores de características), en dos grupos, considerando la mayor separación posible. Los vectores que establecen el margen de separación máxima se denominan support vectors (2013):\n",
    "\n",
    "![svm.png](attachment:svm.png)\n",
    "\n",
    "Con base en la Figura, es importante señalar que los support vectors están en el hiperplano positivo y en el hiperplano negativo. En la Figura también se pueden ver dos clases (azul y verde). De esta forma, en base a valores específicos para cada clase, se determina en qué lado del hiperplano se ubica el vector de características a clasificar (Dubiau, 2013)."
   ]
  },
  {
   "cell_type": "code",
   "execution_count": 33,
   "metadata": {},
   "outputs": [
    {
     "data": {
      "text/plain": [
       "SGDClassifier(max_iter=100)"
      ]
     },
     "execution_count": 33,
     "metadata": {},
     "output_type": "execute_result"
    }
   ],
   "source": [
    "from sklearn.svm import SVC\n",
    "from sklearn.model_selection import cross_validate\n",
    "from sklearn.model_selection import cross_val_score\n",
    "from sklearn.linear_model import SGDClassifier\n",
    "svc=SVC(kernel='poly',C=0.1, degree=3, coef0=0.0, class_weight='balanced') # Se aplica el modelo SVM con sus hiperparametros\n",
    "scores = cross_val_score(svc, X_svd_train, y_train, cv=5, scoring='accuracy') # Se valida el modelo con 10 folds\n",
    "svc = SGDClassifier(max_iter=100) # Se establece el numero de iteraciones sobre el set de entrenamiento \n",
    "svc.fit(X_svd_train, y_train) # Se ajusta el modelo "
   ]
  },
  {
   "cell_type": "markdown",
   "metadata": {},
   "source": [
    "### Resultados: Evaluación\n",
    "La evaluación se lleva a cabo en base a una métrica de exactitud, que representa el número de predicciones correctas sobre las predicciones totales del conjunto de prueba (Mishra, 2018). Esto quiere decir que tan exacta es la clasificación de los comentarios de los productos en relación a la polaridad del sentimiento que se expresa en cada uno."
   ]
  },
  {
   "cell_type": "code",
   "execution_count": 34,
   "metadata": {},
   "outputs": [
    {
     "data": {
      "text/plain": [
       "0.725752508361204"
      ]
     },
     "execution_count": 34,
     "metadata": {},
     "output_type": "execute_result"
    }
   ],
   "source": [
    "# Exactitud en el set de prueba\n",
    "svc.score(X_svd_test, y_test)"
   ]
  },
  {
   "cell_type": "code",
   "execution_count": 35,
   "metadata": {},
   "outputs": [
    {
     "data": {
      "text/plain": [
       "array(['Positive', 'Negative', 'Negative', 'Negative', 'Negative',\n",
       "       'Negative', 'Positive', 'Negative', 'Positive', 'Positive',\n",
       "       'Positive', 'Negative', 'Positive', 'Positive', 'Negative',\n",
       "       'Positive', 'Positive', 'Positive', 'Negative', 'Negative',\n",
       "       'Positive', 'Positive', 'Positive', 'Negative', 'Positive',\n",
       "       'Positive', 'Negative', 'Negative', 'Positive', 'Negative',\n",
       "       'Negative', 'Negative', 'Positive', 'Negative', 'Positive',\n",
       "       'Positive', 'Positive', 'Negative', 'Negative', 'Negative',\n",
       "       'Negative', 'Positive', 'Positive', 'Positive', 'Positive',\n",
       "       'Positive', 'Negative', 'Negative', 'Negative', 'Positive',\n",
       "       'Negative', 'Positive', 'Positive', 'Positive', 'Negative',\n",
       "       'Negative', 'Negative', 'Positive', 'Negative', 'Positive',\n",
       "       'Positive', 'Positive', 'Positive', 'Negative', 'Positive',\n",
       "       'Negative', 'Negative', 'Negative', 'Positive', 'Negative',\n",
       "       'Negative', 'Negative', 'Positive', 'Positive', 'Positive',\n",
       "       'Negative', 'Positive', 'Positive', 'Positive', 'Positive',\n",
       "       'Positive', 'Negative', 'Negative', 'Negative', 'Positive',\n",
       "       'Positive', 'Positive', 'Negative', 'Negative', 'Negative',\n",
       "       'Positive', 'Positive', 'Negative', 'Positive', 'Negative',\n",
       "       'Negative', 'Positive', 'Negative', 'Positive', 'Positive',\n",
       "       'Negative', 'Negative', 'Positive', 'Positive', 'Negative',\n",
       "       'Negative', 'Negative', 'Positive', 'Positive', 'Negative',\n",
       "       'Positive', 'Negative', 'Negative', 'Negative', 'Negative',\n",
       "       'Positive', 'Positive', 'Positive', 'Negative', 'Negative',\n",
       "       'Positive', 'Negative', 'Negative', 'Positive', 'Negative',\n",
       "       'Negative', 'Positive', 'Negative', 'Negative', 'Negative',\n",
       "       'Positive', 'Negative', 'Positive', 'Positive', 'Negative',\n",
       "       'Negative', 'Positive', 'Positive', 'Positive', 'Positive',\n",
       "       'Positive', 'Positive', 'Negative', 'Positive', 'Positive',\n",
       "       'Negative', 'Negative', 'Negative', 'Positive', 'Positive',\n",
       "       'Positive', 'Positive', 'Negative', 'Positive', 'Negative',\n",
       "       'Negative', 'Positive', 'Negative', 'Negative', 'Positive',\n",
       "       'Positive', 'Negative', 'Positive', 'Negative', 'Positive',\n",
       "       'Positive', 'Negative', 'Negative', 'Negative', 'Negative',\n",
       "       'Negative', 'Positive', 'Positive', 'Negative', 'Positive',\n",
       "       'Positive', 'Negative', 'Negative', 'Positive', 'Positive',\n",
       "       'Negative', 'Negative', 'Negative', 'Positive', 'Negative',\n",
       "       'Negative', 'Positive', 'Positive', 'Negative', 'Positive',\n",
       "       'Positive', 'Negative', 'Positive', 'Positive', 'Positive',\n",
       "       'Negative', 'Positive', 'Negative', 'Positive', 'Positive',\n",
       "       'Positive', 'Positive', 'Negative', 'Positive', 'Positive',\n",
       "       'Positive', 'Positive', 'Positive', 'Positive', 'Negative',\n",
       "       'Negative', 'Positive', 'Negative', 'Positive', 'Positive',\n",
       "       'Negative', 'Positive', 'Positive', 'Negative', 'Negative',\n",
       "       'Negative', 'Negative', 'Negative', 'Positive', 'Positive',\n",
       "       'Negative', 'Negative', 'Positive', 'Positive', 'Negative',\n",
       "       'Positive', 'Negative', 'Negative', 'Positive', 'Positive',\n",
       "       'Positive', 'Positive', 'Negative', 'Negative', 'Positive',\n",
       "       'Positive', 'Negative', 'Positive', 'Positive', 'Positive',\n",
       "       'Positive', 'Negative', 'Negative', 'Positive', 'Negative',\n",
       "       'Negative', 'Negative', 'Positive', 'Positive', 'Positive',\n",
       "       'Positive', 'Negative', 'Positive', 'Negative', 'Positive',\n",
       "       'Positive', 'Positive', 'Positive', 'Negative', 'Positive',\n",
       "       'Positive', 'Negative', 'Positive', 'Positive', 'Positive',\n",
       "       'Positive', 'Positive', 'Positive', 'Negative', 'Negative',\n",
       "       'Negative', 'Positive', 'Negative', 'Positive', 'Negative',\n",
       "       'Negative', 'Positive', 'Positive', 'Negative', 'Negative',\n",
       "       'Positive', 'Negative', 'Positive', 'Negative', 'Negative',\n",
       "       'Negative', 'Negative', 'Positive', 'Negative', 'Positive',\n",
       "       'Positive', 'Positive', 'Negative', 'Negative'], dtype='<U8')"
      ]
     },
     "execution_count": 35,
     "metadata": {},
     "output_type": "execute_result"
    }
   ],
   "source": [
    "# Predecir en el set de prueba \n",
    "predicted_sentiments = svc.predict(X_svd_test)\n",
    "predicted_sentiments"
   ]
  },
  {
   "cell_type": "code",
   "execution_count": 36,
   "metadata": {
    "scrolled": false
   },
   "outputs": [
    {
     "name": "stdout",
     "output_type": "stream",
     "text": [
      "              precision    recall  f1-score   support\n",
      "\n",
      "    Positive       0.69      0.77      0.73       143\n",
      "    Negative       0.76      0.69      0.72       156\n",
      "\n",
      "    accuracy                           0.73       299\n",
      "   macro avg       0.73      0.73      0.73       299\n",
      "weighted avg       0.73      0.73      0.73       299\n",
      "\n"
     ]
    }
   ],
   "source": [
    "# Desplegar metricas para el modelo\n",
    "report = metrics.classification_report(y_true=y_test, \n",
    "                                           y_pred=predicted_sentiments, \n",
    "                                           labels=['Positive', 'Negative'])\n",
    "print(report)"
   ]
  },
  {
   "cell_type": "markdown",
   "metadata": {},
   "source": [
    "Está comprobado que el modelo se optimizó con un 75% de precisión. Luego, para evaluar el modelo se realiza una matriz de confusión, que básicamente permite visualizar la proporción de etiquetas predichas en relación a la proporción de etiquetas verdaderas de los comentarios extraídos de las redes sociales de los productos, luego de aplicar el algoritmo SVM. "
   ]
  },
  {
   "cell_type": "code",
   "execution_count": 37,
   "metadata": {
    "scrolled": true
   },
   "outputs": [
    {
     "name": "stdout",
     "output_type": "stream",
     "text": [
      "Confusion matrix, without normalization\n",
      "[[107  49]\n",
      " [ 33 110]]\n",
      "Normalized confusion matrix\n",
      "[[0.68589744 0.31410256]\n",
      " [0.23076923 0.76923077]]\n"
     ]
    },
    {
     "data": {
      "image/png": "[encoded data removed]",
      "text/plain": [
       "<Figure size 432x288 with 2 Axes>"
      ]
     },
     "metadata": {
      "needs_background": "light"
     },
     "output_type": "display_data"
    },
    {
     "data": {
      "image/png": "[encoded data removed]",
      "text/plain": [
       "<Figure size 432x288 with 2 Axes>"
      ]
     },
     "metadata": {
      "needs_background": "light"
     },
     "output_type": "display_data"
    }
   ],
   "source": [
    "# Graficar matrices de confusión sin y con normalizacion \n",
    "from sklearn.metrics import plot_confusion_matrix\n",
    "titles_options = [(\"Confusion matrix, without normalization\", None), # Se nombran las matrices\n",
    "                  (\"Normalized confusion matrix\", 'true')]\n",
    "for title, normalize in titles_options:\n",
    "    disp = plot_confusion_matrix(svc, X_svd_test, y_test,\n",
    "                                 display_labels=['Negative', 'Positive'], # Se definen las etiquetas correspondientes\n",
    "                                 cmap=plt.cm.Blues,\n",
    "                                 normalize=normalize)\n",
    "    disp.ax_.set_title(title)\n",
    "\n",
    "    print(title)\n",
    "    print(disp.confusion_matrix)\n",
    "\n",
    "plt.show()"
   ]
  },
  {
   "cell_type": "markdown",
   "metadata": {},
   "source": [
    "Como se puede observar en la Figura de \"Normalized confusion matrix\", la predicción de las etiquetas neutrales (0.88) y positivas (0.62) son más exactas que la predicción de las etiquetas negativas (0.21). "
   ]
  },
  {
   "cell_type": "markdown",
   "metadata": {},
   "source": [
    "#### Referencias:\n",
    "\n",
    ">* Dubiau, L. (2013). Procesamiento de Lenguaje Natural en Sistemas de Análisis de Sentimientos. Universidad de Buenos Aires, 31-32.\n",
    ">* Ientilucci, E. J. (2003). Using the singular value decomposition. Rochester Institute of Technology, New York, United States, 1-2.\n",
    ">* Mishra, A. (2018). Metrics to Evaluate your Machine Learning Algorithm. Towards Data Science. https://towardsdatascience.com/metrics-to-evaluate-your-machine-learningalgorithm-f10ba6e38234\n",
    "> * Nguyen, Heidi; Veluchamy, Aravind; Diop, Mamadou; and Iqbal, Rashed. (2018).\"Comparative Study of Sentiment Analysis with Product Reviews Using MachineLearning and Lexicon-Based Approaches,\" SMU Data Science Review: Vol. 1 : No. 4, Article 7. Available at: https://scholar.smu.edu/datasciencereview/vol1/iss4/\n",
    ">* Scikit-learn. (2020). sklearn.feature_extraction.text.CountVectorizer — scikit-learn 0.24.1 documentation. Scikit-Learn Documentation. https://scikit-learn.org/stable/modules/generated/sklearn.feature_extraction.text.CountVectorizer.html\n",
    ">* Song, M., Yang, H., Siadat, S. H., and Pechenizkiy, M. (2013). A comparative study of dimensionality reduction techniques to enhance trace clustering performances. Expert Systems with Applications, 40(9), 3722–3737. doi:10.1016/j.eswa.2012.12.078"
   ]
  },
  {
   "cell_type": "code",
   "execution_count": null,
   "metadata": {},
   "outputs": [],
   "source": []
  }
 ],
 "metadata": {
  "kernelspec": {
   "display_name": "Python 3",
   "language": "python",
   "name": "python3"
  },
  "language_info": {
   "codemirror_mode": {
    "name": "ipython",
    "version": 3
   },
   "file_extension": ".py",
   "mimetype": "text/x-python",
   "name": "python",
   "nbconvert_exporter": "python",
   "pygments_lexer": "ipython3",
   "version": "3.8.3"
  }
 },
 "nbformat": 4,
 "nbformat_minor": 4
}
